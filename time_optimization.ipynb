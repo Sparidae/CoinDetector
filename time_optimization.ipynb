{
 "cells": [
  {
   "cell_type": "code",
   "execution_count": 1,
   "metadata": {},
   "outputs": [],
   "source": [
    "import logging\n",
    "\n",
    "import cv2\n",
    "import matplotlib.pyplot as plt\n",
    "import numpy as np\n",
    "\n",
    "from methods import canny, hough_circle, show_img\n",
    "\n",
    "config = {\n",
    "    \"./img/coins5.jpg\": {  # 多硬币交叠,调试完成\n",
    "        \"high_threshold\": 100,\n",
    "        \"low_threshold\": 50,\n",
    "        \"min_r\": 30,\n",
    "        \"max_r\": 60,\n",
    "        \"min_voting\": 8,\n",
    "        \"min_center_distance\": 25,\n",
    "        \"debugging\": False,\n",
    "    },\n",
    "}"
   ]
  },
  {
   "cell_type": "markdown",
   "metadata": {},
   "source": [
    "原生python"
   ]
  },
  {
   "cell_type": "code",
   "execution_count": 2,
   "metadata": {},
   "outputs": [
    {
     "name": "stdout",
     "output_type": "stream",
     "text": [
      "3.51 s ± 34.5 ms per loop (mean ± std. dev. of 7 runs, 1 loop each)\n"
     ]
    }
   ],
   "source": [
    "%%timeit\n",
    "%%capture\n",
    "img_path = \"./img/coins5.jpg\"\n",
    "img = cv2.imread(img_path, cv2.IMREAD_GRAYSCALE)\n",
    "circles = hough_circle(img, **config[img_path])"
   ]
  },
  {
   "cell_type": "markdown",
   "metadata": {},
   "source": [
    "opencv c++实现"
   ]
  },
  {
   "cell_type": "code",
   "execution_count": 3,
   "metadata": {},
   "outputs": [
    {
     "name": "stdout",
     "output_type": "stream",
     "text": [
      "77.8 ms ± 898 µs per loop (mean ± std. dev. of 7 runs, 10 loops each)\n"
     ]
    }
   ],
   "source": [
    "%%timeit \n",
    "%%capture \n",
    "# opencv例子\n",
    "img = cv2.imread(\"./img/coins5.jpg\", cv2.IMREAD_GRAYSCALE)\n",
    "circles = cv2.HoughCircles(\n",
    "    img,\n",
    "    cv2.HOUGH_GRADIENT,\n",
    "    dp=1,  # 图像分辨率和累加器分辨率比\n",
    "    minDist=50,  # 被检测的圆心之间的最小距离\n",
    "    param1=130,  # 传递给canny中的较高的阈值,低阈值是高阈值的一半\n",
    "    param2=70,  # 检测阶段圆心的投票阈值，越小，错误的圆越多\n",
    "    minRadius=30,  # 最小圆半径\n",
    "    maxRadius=100,  # 最大圆半径\n",
    ")\n",
    "circles = np.uint16(np.around(circles))\n",
    "img_c = cv2.cvtColor(img, cv2.COLOR_GRAY2BGR)\n",
    "for i in circles[0, :]:\n",
    "    cv2.circle(img_c, (i[0], i[1]), i[2], (0, 255, 0), 2)\n",
    "    cv2.circle(img_c, (i[0], i[1]), 2, (0, 0, 255), 2)\n",
    "plt.imshow(img_c, \"gray\"), plt.axis(\"off\"), plt.show()"
   ]
  },
  {
   "cell_type": "markdown",
   "metadata": {},
   "source": [
    "numba编译"
   ]
  },
  {
   "cell_type": "code",
   "execution_count": 4,
   "metadata": {},
   "outputs": [
    {
     "name": "stdout",
     "output_type": "stream",
     "text": [
      "3.52 s ± 20.5 ms per loop (mean ± std. dev. of 7 runs, 1 loop each)\n"
     ]
    }
   ],
   "source": [
    "%%timeit \n",
    "%%capture \n",
    "\n",
    "from methods_numba import canny_numba, hough_circle_numba, show_img_numba\n",
    "\n",
    "# 针对图片的精调参数\n",
    "config = {\n",
    "    \"./img/coins5.jpg\": {  # 多硬币交叠,调试完成\n",
    "        \"high_threshold\": 100,\n",
    "        \"low_threshold\": 50,\n",
    "        \"min_r\": 30,\n",
    "        \"max_r\": 60,\n",
    "        \"min_voting\": 8,\n",
    "        \"min_center_distance\": 25,\n",
    "        \"debugging\": False,\n",
    "    },\n",
    "}\n",
    "\n",
    "img_path = \"./img/coins5.jpg\"\n",
    "# test hough\n",
    "img = cv2.imread(img_path, cv2.IMREAD_GRAYSCALE)\n",
    "image, circles = hough_circle_numba(img, **config[img_path])\n",
    "print(circles)"
   ]
  }
 ],
 "metadata": {
  "kernelspec": {
   "display_name": "torch2",
   "language": "python",
   "name": "python3"
  },
  "language_info": {
   "codemirror_mode": {
    "name": "ipython",
    "version": 3
   },
   "file_extension": ".py",
   "mimetype": "text/x-python",
   "name": "python",
   "nbconvert_exporter": "python",
   "pygments_lexer": "ipython3",
   "version": "3.9.18"
  }
 },
 "nbformat": 4,
 "nbformat_minor": 2
}
